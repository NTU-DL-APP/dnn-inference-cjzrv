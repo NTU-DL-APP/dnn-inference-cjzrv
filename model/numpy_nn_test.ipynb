{
  "nbformat": 4,
  "nbformat_minor": 0,
  "metadata": {
    "colab": {
      "provenance": []
    },
    "kernelspec": {
      "name": "python3",
      "display_name": "Python 3"
    },
    "language_info": {
      "name": "python"
    }
  },
  "cells": [
    {
      "cell_type": "code",
      "execution_count": null,
      "metadata": {
        "id": "Q3AJQb14k3vK"
      },
      "outputs": [],
      "source": [
        "import numpy as np\n",
        "import json"
      ]
    },
    {
      "cell_type": "code",
      "source": [
        "YOUR_MODEL_NAME = 'fashion_mnist' # Default extension is h5\n",
        "TF_MODEL_PATH = f'{YOUR_MODEL_NAME}.h5'\n",
        "MODEL_WEIGHTS_PATH = f'{YOUR_MODEL_NAME}.npz'\n",
        "MODEL_ARCH_PATH = f'{YOUR_MODEL_NAME}.json'"
      ],
      "metadata": {
        "id": "R5kOVSijmRGF"
      },
      "execution_count": null,
      "outputs": []
    },
    {
      "cell_type": "code",
      "source": [
        "model = tf.keras.models.load_model(TF_MODEL_PATH)\n",
        "\n",
        "# Save weights to .npz (NumPy format)\n",
        "weights = model.get_weights()\n",
        "np.savez('model_weights.npz', *weights)\n",
        "\n",
        "# Save architecture to JSON\n",
        "with open('model_architecture.json', 'w') as json_file:\n",
        "    json_file.write(model.to_json())"
      ],
      "metadata": {
        "id": "4HeolTt5ND_b"
      },
      "execution_count": null,
      "outputs": []
    },
    {
      "cell_type": "code",
      "source": [
        "import tensorflow as tf\n",
        "import numpy as np\n",
        "\n",
        "# === Step 1: Load Keras .h5 model ===\n",
        "model = tf.keras.models.load_model(TF_MODEL_PATH)\n",
        "\n",
        "# === Step 2: Print and collect weights ===\n",
        "params = {}\n",
        "print(\"🔍 Extracting weights from model...\\n\")\n",
        "for layer in model.layers:\n",
        "    weights = layer.get_weights()\n",
        "    if weights:\n",
        "        print(f\"Layer: {layer.name}\")\n",
        "        for i, w in enumerate(weights):\n",
        "            param_name = f\"{layer.name}_{i}\"\n",
        "            print(f\"  {param_name}: shape={w.shape}\")\n",
        "            params[param_name] = w\n",
        "        print()\n",
        "\n",
        "# === Step 3: Save to .npz ===\n",
        "np.savez(MODEL_WEIGHTS_PATH, **params)\n",
        "print(f\"✅ Saved all weights to {MODEL_WEIGHTS_PATH}\")\n",
        "\n",
        "# === Step 4: Reload and verify ===\n",
        "print(\"\\n🔁 Verifying loaded .npz weights...\\n\")\n",
        "loaded = np.load(MODEL_WEIGHTS_PATH)\n",
        "\n",
        "for key in loaded.files:\n",
        "    print(f\"{key}: shape={loaded[key].shape}\")\n",
        "\n",
        "# === Step 6: Extract architecture to JSON ===\n",
        "arch = []\n",
        "for layer in model.layers:\n",
        "    config = layer.get_config()\n",
        "    info = {\n",
        "        \"name\": layer.name,\n",
        "        \"type\": layer.__class__.__name__,\n",
        "        \"config\": config,\n",
        "        \"weights\": [f\"{layer.name}_{i}\" for i in range(len(layer.get_weights()))]\n",
        "    }\n",
        "    arch.append(info)\n",
        "\n",
        "with open(MODEL_ARCH_PATH, \"w\") as f:\n",
        "    json.dump(arch, f, indent=2)\n",
        "\n",
        "print(\"✅ Architecture saved to model_architecture.json\")"
      ],
      "metadata": {
        "colab": {
          "base_uri": "https://localhost:8080/"
        },
        "id": "2lqDQAtPl2Y5",
        "outputId": "57144e8a-074a-4e05-a756-0ebc31ac4f8c"
      },
      "execution_count": null,
      "outputs": [
        {
          "output_type": "stream",
          "name": "stderr",
          "text": [
            "/usr/local/lib/python3.11/dist-packages/keras/src/layers/reshaping/flatten.py:37: UserWarning: Do not pass an `input_shape`/`input_dim` argument to a layer. When using Sequential models, prefer using an `Input(shape)` object as the first layer in the model instead.\n",
            "  super().__init__(**kwargs)\n",
            "WARNING:absl:Compiled the loaded model, but the compiled metrics have yet to be built. `model.compile_metrics` will be empty until you train or evaluate the model.\n",
            "WARNING:absl:Error in loading the saved optimizer state. As a result, your model is starting with a freshly initialized optimizer.\n"
          ]
        },
        {
          "output_type": "stream",
          "name": "stdout",
          "text": [
            "🔍 Extracting weights from model...\n",
            "\n",
            "Layer: dense\n",
            "  dense_0: shape=(784, 300)\n",
            "  dense_1: shape=(300,)\n",
            "\n",
            "Layer: dense_1\n",
            "  dense_1_0: shape=(300, 100)\n",
            "  dense_1_1: shape=(100,)\n",
            "\n",
            "Layer: dense_2\n",
            "  dense_2_0: shape=(100, 10)\n",
            "  dense_2_1: shape=(10,)\n",
            "\n",
            "✅ Saved all weights to fashion_mnist.npz\n",
            "\n",
            "🔁 Verifying loaded .npz weights...\n",
            "\n",
            "dense_0: shape=(784, 300)\n",
            "dense_1: shape=(300,)\n",
            "dense_1_0: shape=(300, 100)\n",
            "dense_1_1: shape=(100,)\n",
            "dense_2_0: shape=(100, 10)\n",
            "dense_2_1: shape=(10,)\n",
            "✅ Architecture saved to model_architecture.json\n"
          ]
        }
      ]
    },
    {
      "cell_type": "markdown",
      "source": [
        "## NN forward Path using Numpy only"
      ],
      "metadata": {
        "id": "XdPYPffGoJek"
      }
    },
    {
      "cell_type": "code",
      "source": [
        "import numpy as np\n",
        "import json\n",
        "\n",
        "# === Load weights and architecture ===\n",
        "weights = np.load(MODEL_WEIGHTS_PATH)\n",
        "with open(MODEL_ARCH_PATH) as f:\n",
        "    architecture = json.load(f)\n",
        "\n",
        "\n",
        "# === Activation functions ===\n",
        "def relu(x):\n",
        "    return np.maximum(0, x)\n",
        "\n",
        "def softmax(x):\n",
        "    e = np.exp(x - np.max(x, axis=-1, keepdims=True))\n",
        "    return e / np.sum(e, axis=-1, keepdims=True)\n",
        "\n",
        "# === Flatten ===\n",
        "def flatten(x):\n",
        "    return x.reshape(x.shape[0], -1)\n",
        "\n",
        "# === Dense layer ===\n",
        "def dense(x, W, b):\n",
        "    return x @ W + b\n",
        "\n",
        "# === Forward pass ===\n",
        "def forward(x):\n",
        "    for layer in architecture:\n",
        "        lname = layer['name']\n",
        "        ltype = layer['type']\n",
        "        cfg = layer['config']\n",
        "        wnames = layer['weights']\n",
        "\n",
        "\n",
        "        if ltype == \"Flatten\":\n",
        "            x = flatten(x)\n",
        "\n",
        "        elif ltype == \"Dense\":\n",
        "            W = weights[wnames[0]]\n",
        "            b = weights[wnames[1]]\n",
        "            x = dense(x, W, b)\n",
        "            if cfg.get(\"activation\") == \"relu\":\n",
        "                x = relu(x)\n",
        "            elif cfg.get(\"activation\") == \"softmax\":\n",
        "                x = softmax(x)\n",
        "\n",
        "    return x\n",
        "\n",
        "# === Example usage ===\n",
        "# Load a dummy image (batch size 1)\n",
        "# Make sure it's shape: (1, 28, 28, 1)\n",
        "dummy_input = np.random.rand(1, 28*28).astype(np.float32)\n",
        "output = forward(dummy_input)\n",
        "\n",
        "print(\"🧠 Output probabilities:\", output)\n",
        "print(\"✅ Predicted class:\", np.argmax(output, axis=-1))"
      ],
      "metadata": {
        "colab": {
          "base_uri": "https://localhost:8080/"
        },
        "id": "fXaoHjRxnd7B",
        "outputId": "03eacd1c-f1d5-4e87-f6b1-0f374033a86b"
      },
      "execution_count": null,
      "outputs": [
        {
          "output_type": "stream",
          "name": "stdout",
          "text": [
            "🧠 Output probabilities: [[5.4055866e-04 5.5296352e-04 2.8246926e-04 5.7860703e-05 3.9623676e-05\n",
            "  3.9088911e-07 1.1896925e-03 5.9604156e-07 9.9725431e-01 8.1549682e-05]]\n",
            "✅ Predicted class: [8]\n"
          ]
        }
      ]
    },
    {
      "cell_type": "code",
      "source": [],
      "metadata": {
        "id": "34RfS1ZNOMzb"
      },
      "execution_count": null,
      "outputs": []
    }
  ]
}